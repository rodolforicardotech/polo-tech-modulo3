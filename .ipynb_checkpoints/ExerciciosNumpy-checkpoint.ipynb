{
 "cells": [
  {
   "cell_type": "markdown",
   "metadata": {
    "colab_type": "text",
    "id": "view-in-github"
   },
   "source": [
    "<a href=\"https://colab.research.google.com/github/robertosgpontes/tec_prog_1/blob/main/ExerciciosNumpy.ipynb\" target=\"_parent\"><img src=\"https://colab.research.google.com/assets/colab-badge.svg\" alt=\"Open In Colab\"/></a>"
   ]
  },
  {
   "cell_type": "markdown",
   "metadata": {
    "id": "dDhJSUbSE6hI"
   },
   "source": [
    "# Lista de Exercícios de Numpy\n",
    "\n",
    "Deverá ser entrege até **11/02/2023** por meio do github que foi informado por vocês no [formulário](https://forms.office.com/r/YV12vEXGYF) respondido na aula de 01/02.\n",
    "\n",
    "A entrega pela github é parte da avaliação."
   ]
  },
  {
   "cell_type": "markdown",
   "metadata": {
    "id": "eX5x6-bjE6hN"
   },
   "source": [
    "## Questão 1\n",
    "\n",
    "Crie um array 100 com valores aleatórios e ache os valores máximo e mínimo"
   ]
  },
  {
   "cell_type": "code",
   "execution_count": 1,
   "metadata": {},
   "outputs": [],
   "source": [
    "import numpy as np"
   ]
  },
  {
   "cell_type": "code",
   "execution_count": 15,
   "metadata": {
    "id": "kYKS_ae1E6hP"
   },
   "outputs": [],
   "source": [
    "arr = np.random.rand(100)*100"
   ]
  },
  {
   "cell_type": "code",
   "execution_count": 17,
   "metadata": {},
   "outputs": [
    {
     "name": "stdout",
     "output_type": "stream",
     "text": [
      "Valor máximo:  99.8789405028104 \n",
      "Valor mínimo:  0.2924227727972295\n"
     ]
    }
   ],
   "source": [
    "print(\"Valor máximo: \", arr.max(), \"\\nValor mínimo: \", arr.min())"
   ]
  },
  {
   "cell_type": "markdown",
   "metadata": {
    "id": "qT9pSHp4E6hQ"
   },
   "source": [
    "## Questão 2\n",
    "Em Geometria Analítica, um **vetor** é uma quantidade que pode ser definida por um énuplo (uma sequência ordenada de *n* elementos) em que cada elemento representa a intensidade do vetor na direção especificada pela i-ésima componente desta sequência. \n",
    "\n",
    "Quando pensamos em duas dimensões, por exemplo, o vetor $R = (b,a)$ define, geometricamente, a entidade representada na figura abaixo, com componentes nos eixos x e y usuais.\n",
    "\n",
    "<img src = \"https://static.todamateria.com.br/upload/im/ag/image-721.jpg?auto_optimize=low\" />\n",
    "\n",
    "O **módulo** deste vetor, também chamado de intensidade, está geometricamente relacionado ao seu comprimento, e pode ser calculado diretamente pelas suas componentes, por meio de uma operação conhecida como **produto escalar** do vetor com ele mesmo. O módulo quadrático é expresso, desta forma, por:\n",
    "\n",
    "$|A|^2 = \\vec{A} \\cdot \\vec{A}$\n",
    "\n",
    "Por outro lado, o produto escalar entre dois vetores $A = (a_{x}, a_{y})$ e $B = (b_{x}, b_{y})$ é dado por:\n",
    "\n",
    "$\\vec{A} \\cdot \\vec{B} = a_{x} \\times b_{x} + a_{y} \\times b_{y}$ (e esta definição vale para qualquer que seja a dimensão do vetor).\n",
    "\n",
    "O módulo quadrático de um vetor é, portanto:\n",
    "\n",
    "$|A|² = a_{x}^2 + b_{x}^2$."
   ]
  },
  {
   "cell_type": "markdown",
   "metadata": {
    "id": "-ZU6W86sE6hT"
   },
   "source": [
    "Dado o exposto acima, escreva uma função que retorne o módulo de um vetor n-dimensional qualquer."
   ]
  },
  {
   "cell_type": "code",
   "execution_count": 18,
   "metadata": {
    "id": "PdKKKvShE6hT"
   },
   "outputs": [],
   "source": [
    "def moduloVetor(a, b):\n",
    "    moduloQuadratico = (a*a) + (b*b)\n",
    "    return moduloQuadratico"
   ]
  },
  {
   "cell_type": "code",
   "execution_count": 24,
   "metadata": {},
   "outputs": [
    {
     "data": {
      "text/plain": [
       "5"
      ]
     },
     "execution_count": 24,
     "metadata": {},
     "output_type": "execute_result"
    }
   ],
   "source": [
    "vetor1 = np.array([[1,1],[1,1]])\n",
    "vetor2 = np.array([[2,2],[2,2]])\n",
    "moduloVetor(vetor1[0][0], vetor2[0][0])"
   ]
  },
  {
   "cell_type": "markdown",
   "metadata": {
    "id": "CRZdfzLgE6hU"
   },
   "source": [
    "## Questão 3\n",
    "\n",
    "Em uma **análise de regressão**, usualmente estamos interessados em descrever relações entre variáveis de um dado conjunto de dados por meio de uma **função** que descreva, o tanto quanto possível, estas relações.\n",
    "\n",
    "Por exemplo, no gráfico abaixo, os pontos vermelhos relacionam as medidas das duas variáveis sendo avaliadas (nos eixos x e y); e a linha azul aproxima a relação entre elas por uma função linear."
   ]
  },
  {
   "cell_type": "markdown",
   "metadata": {
    "id": "180Vp7AZE6hV"
   },
   "source": [
    "![Normdist_regression.png](https://miro.medium.com/v2/resize:fit:786/format:webp/1*LEmBCYAttxS6uI6rEyPLMQ.png)"
   ]
  },
  {
   "cell_type": "markdown",
   "metadata": {
    "id": "oQ1RFXOAE6hV"
   },
   "source": [
    "É possível ver que nem todos os pontos obedecem exatamente à relação ditada pela reta (isto é, há pontos que não estão exatamente \"sobre a reta\"; mas, sim, ligeraimente acima, ou abaixo, dela). Isto, contudo, é esperado em um modelo de regressão, por inúmeras fontes de incerteza associadas às medições."
   ]
  },
  {
   "cell_type": "markdown",
   "metadata": {
    "id": "XGWoc_O2E6hW"
   },
   "source": [
    "Uma das métricas que utilizamos para avaliar a qualidade de uma regressão é o **erro quadrático médio (EQM)**, que mensura a diferença total entre cada predição da regressão ($y_{prediction}$; que no nosso caso seriam os valores de y para a reta azul) com o valor real de cada i-ésima medida ($y_{i}$; que no nosso caso seriam as coordenadas y para cada ponto vermelho do gráfico). O EQM pode ser definido como:"
   ]
  },
  {
   "cell_type": "markdown",
   "metadata": {
    "id": "CjgOdTD6E6hX"
   },
   "source": [
    "$EQM = \\frac{1}{n}\\sum_{i=1}^{n}(y_{prediction} - y_{i})^2$."
   ]
  },
  {
   "cell_type": "markdown",
   "metadata": {
    "id": "qeXCrbmbE6hY"
   },
   "source": [
    "Isto posto, escreva uma função que calcule o EQM recebendo, como entrada, os vetores $y_{prediction}$ e $y_{i}$. Por exemplo, digamos que sua função se chame *calculate_eqm*, ela deve operar da seguinte forma:"
   ]
  },
  {
   "cell_type": "code",
   "execution_count": 62,
   "metadata": {
    "id": "mW1BDfUcE6hZ",
    "outputId": "34904ed4-681a-48d8-b688-901804f84492"
   },
   "outputs": [
    {
     "data": {
      "text/plain": [
       "(3,)"
      ]
     },
     "execution_count": 62,
     "metadata": {},
     "output_type": "execute_result"
    }
   ],
   "source": [
    "# dados dois arrays quaisquer de mesmo tamanho, a função deve retornar o EQM\n",
    "y_prediction = np.array([1,2,3])\n",
    "y_i = np.array([0,0,3])\n",
    "calculate_eqm(y_prediction,y_i)"
   ]
  },
  {
   "cell_type": "code",
   "execution_count": 63,
   "metadata": {
    "id": "bwiTGuuoE6hb"
   },
   "outputs": [
    {
     "data": {
      "text/plain": [
       "3.0"
      ]
     },
     "execution_count": 63,
     "metadata": {},
     "output_type": "execute_result"
    }
   ],
   "source": [
    "# Solução\n",
    "\n",
    "import numpy as np\n",
    "y_prediction = np.array([1,2,3])\n",
    "y_i = np.array([0,0,3])\n",
    "\n",
    "def calculate_eqm(vetor1, vetor2):\n",
    "    subtracao = vetor1 - vetor2\n",
    "    eqr = (((vetor1 - vetor2).sum())**2)/vetor1.shape[0] \n",
    "    return eqr\n",
    "\n",
    "calculate_eqm(y_prediction,y_i)"
   ]
  },
  {
   "cell_type": "markdown",
   "metadata": {
    "id": "Wh0_a8PjE6hc"
   },
   "source": [
    "## Questão 4\n",
    "\n",
    "Crie um array 2D (bidimensional) com 1 na borda e 0 dentro"
   ]
  },
  {
   "cell_type": "code",
   "execution_count": 49,
   "metadata": {},
   "outputs": [
    {
     "data": {
      "text/plain": [
       "array([[1, 1, 1],\n",
       "       [1, 0, 1],\n",
       "       [1, 1, 1]])"
      ]
     },
     "execution_count": 49,
     "metadata": {},
     "output_type": "execute_result"
    }
   ],
   "source": [
    "array4 = np.ones((3, 3), dtype=np.int64)\n",
    "array4[1][1] = 0\n",
    "#array4.dtype=np.int8\n",
    "array4"
   ]
  },
  {
   "cell_type": "markdown",
   "metadata": {
    "id": "U1CntgkZE6hc"
   },
   "source": [
    "## Questão 5\n",
    "\n",
    "Como adicionar uma borda de 0's ao redor de um array 2D (bidimensional) existente"
   ]
  },
  {
   "cell_type": "code",
   "execution_count": 115,
   "metadata": {},
   "outputs": [
    {
     "name": "stdout",
     "output_type": "stream",
     "text": [
      "(3, 3)\n"
     ]
    }
   ],
   "source": [
    "#array5 = np.ones((4, 4), dtype=np.int64)\n",
    "arrayTeste = np.array([[1,2,3],[4,5,6], [7,8,9]])\n",
    "\n",
    "\n",
    "bordaSuperior = arrayTeste[0:1]\n",
    "bordaInferior = arrayTeste[-1]\n",
    "bordaLateralEsquerda = arrayTeste[0:arrayTeste.shape[0], 0]\n",
    "bordaLateralDireita = arrayTeste[0:arrayTeste.shape[0], 2]"
   ]
  },
  {
   "cell_type": "markdown",
   "metadata": {
    "id": "qHh149eAE6hd"
   },
   "source": [
    "## Questão 6\n",
    "\n",
    " A eletroencefalografia (EEG) é uma técnica que mensura potenciais elétricos cerebrais em diversas regiões do escalpo do paciente. Suponha que você recebeu um conjunto de dados na forma de uma matriz de 64 x 512 elementos, em que cada linha contém o sinal gravado em um dos **eletrodos** espalhados pelo escalpo em um exame de EEG, e cada coluna contém um valor de potencial elétrico, em microvolts. "
   ]
  },
  {
   "cell_type": "markdown",
   "metadata": {
    "id": "BRDY8u09E6hd"
   },
   "source": [
    "Como o sinal de EEG é muito suscetível a ruídos externos (interferências na qualidade do sinal), uma operação comum para atenuar a interferência no sinal consiste em tirar a média do potencial elétrico de todos os eletrodos, e subtrair este valor de cada um deles. Isto atenua fontes de ruído ao sinal comuns a todos os eletrodos. Em termos matemáticos, o sinal processado por esta operação, $X_{e,i}$ para cada eletrodo (e) e amostra (i), é dado por:"
   ]
  },
  {
   "cell_type": "markdown",
   "metadata": {
    "id": "NHLeT5deE6he"
   },
   "source": [
    "$X_{e,i} = \\hat{X_{e,i}} - \\frac{1}{N}\\sum_{e=1}^{N}\\hat{X_{e,i}}$,\n",
    "\n",
    "em que $\\hat{X_{e,i}}$ representa o sinal original (ou seja, é a matriz de entrada de 64 x 512 elementos), e $N$ indica o total de eletrodos."
   ]
  },
  {
   "cell_type": "markdown",
   "metadata": {
    "id": "ToiE-omdE6he"
   },
   "source": [
    "Com o exposto acima, escreva uma função que retorne uma matriz com os sinais de EEG processados conforme a operação mencionada. Sua função deve operar conforme o exemplo abaixo."
   ]
  },
  {
   "cell_type": "code",
   "execution_count": 46,
   "metadata": {
    "id": "EgsEH6T-E6hf",
    "outputId": "7388c8ad-a5f8-4097-b1db-e2e1e4aad9b0"
   },
   "outputs": [
    {
     "data": {
      "text/plain": [
       "(64, 512)"
      ]
     },
     "execution_count": 46,
     "metadata": {},
     "output_type": "execute_result"
    }
   ],
   "source": [
    "# vamos supor uma matriz de entrada gerada por dados aleatórios\n",
    "X = np.random.randn(64,512)\n",
    "X.shape # apenas para verificar as dimensões"
   ]
  },
  {
   "cell_type": "code",
   "execution_count": 47,
   "metadata": {},
   "outputs": [],
   "source": [
    "def process_EEG_signal(array6):\n",
    "    media = array6.mean()\n",
    "    return array6-media"
   ]
  },
  {
   "cell_type": "code",
   "execution_count": 48,
   "metadata": {
    "id": "gXsgtYEJE6hg",
    "outputId": "7d179469-09c8-4d0d-d8b7-a9cde1f813fb"
   },
   "outputs": [
    {
     "data": {
      "text/plain": [
       "(64, 512)"
      ]
     },
     "execution_count": 48,
     "metadata": {},
     "output_type": "execute_result"
    }
   ],
   "source": [
    "# a função deve executar a operação equacionada anteriormente, retornando uma nova matriz\n",
    "X_processado = process_EEG_signal(X)\n",
    "X_processado.shape"
   ]
  },
  {
   "cell_type": "code",
   "execution_count": 49,
   "metadata": {
    "id": "mR_U9LEbE6hh",
    "outputId": "ef4a479a-23fa-4e1e-9e50-97afaa3596ca"
   },
   "outputs": [
    {
     "data": {
      "text/plain": [
       "-87.43677188114779"
      ]
     },
     "execution_count": 49,
     "metadata": {},
     "output_type": "execute_result"
    }
   ],
   "source": [
    "# Somando as diferenças entre cada elemento das duas matrizes, apenas para ilustrar que elas não são iguais\n",
    "(X_processado - X).sum()"
   ]
  },
  {
   "cell_type": "code",
   "execution_count": 50,
   "metadata": {
    "id": "HkoRtLugE6hh",
    "outputId": "ee8fe812-1c8c-43e5-d04a-40b0e370b85a"
   },
   "outputs": [
    {
     "data": {
      "text/plain": [
       "array([[-2.24161452,  0.43283494,  0.93319154, ...,  0.09058952,\n",
       "         0.62216364, -0.50558726],\n",
       "       [ 0.87408963,  0.17095407, -2.18926598, ..., -0.88392538,\n",
       "         0.39329679, -1.0640604 ],\n",
       "       [-1.49687297,  0.48837782,  1.2421421 , ...,  1.23408346,\n",
       "         1.55067617,  0.34718085],\n",
       "       ...,\n",
       "       [-0.02266127,  0.16078171,  0.57891672, ...,  0.87141336,\n",
       "         0.13064047, -0.01446231],\n",
       "       [ 0.76538005, -1.03162097, -0.95876578, ..., -1.19190064,\n",
       "        -0.37003664, -0.04841236],\n",
       "       [ 0.13947762,  1.70422158,  1.42277849, ...,  1.77788169,\n",
       "        -0.45705468,  1.22601548]])"
      ]
     },
     "execution_count": 50,
     "metadata": {},
     "output_type": "execute_result"
    }
   ],
   "source": [
    "# Visualizando as matrizes, para verificar uma vez mais que, de fato, os elementos são diferentes\n",
    "X"
   ]
  },
  {
   "cell_type": "code",
   "execution_count": 51,
   "metadata": {
    "id": "kGdBX0J-E6hi",
    "outputId": "59655945-932b-4a3b-b4d1-bcc87f9ecdca"
   },
   "outputs": [
    {
     "data": {
      "text/plain": [
       "array([[-2.24428287,  0.43016658,  0.93052318, ...,  0.08792116,\n",
       "         0.61949528, -0.50825562],\n",
       "       [ 0.87142127,  0.16828572, -2.19193434, ..., -0.88659374,\n",
       "         0.39062844, -1.06672876],\n",
       "       [-1.49954132,  0.48570946,  1.23947374, ...,  1.2314151 ,\n",
       "         1.54800781,  0.34451249],\n",
       "       ...,\n",
       "       [-0.02532963,  0.15811335,  0.57624836, ...,  0.868745  ,\n",
       "         0.12797211, -0.01713066],\n",
       "       [ 0.76271169, -1.03428933, -0.96143414, ..., -1.194569  ,\n",
       "        -0.372705  , -0.05108071],\n",
       "       [ 0.13680926,  1.70155322,  1.42011013, ...,  1.77521333,\n",
       "        -0.45972304,  1.22334712]])"
      ]
     },
     "execution_count": 51,
     "metadata": {},
     "output_type": "execute_result"
    }
   ],
   "source": [
    "# Matriz após o processamento descrito no enunciado\n",
    "X_processado"
   ]
  },
  {
   "cell_type": "code",
   "execution_count": 56,
   "metadata": {
    "id": "OlxjvCnQE6hj"
   },
   "outputs": [
    {
     "data": {
      "text/plain": [
       "array([[-2.24428287,  0.43016658,  0.93052318, ...,  0.08792116,\n",
       "         0.61949528, -0.50825562],\n",
       "       [ 0.87142127,  0.16828572, -2.19193434, ..., -0.88659374,\n",
       "         0.39062844, -1.06672876],\n",
       "       [-1.49954132,  0.48570946,  1.23947374, ...,  1.2314151 ,\n",
       "         1.54800781,  0.34451249],\n",
       "       ...,\n",
       "       [-0.02532963,  0.15811335,  0.57624836, ...,  0.868745  ,\n",
       "         0.12797211, -0.01713066],\n",
       "       [ 0.76271169, -1.03428933, -0.96143414, ..., -1.194569  ,\n",
       "        -0.372705  , -0.05108071],\n",
       "       [ 0.13680926,  1.70155322,  1.42011013, ...,  1.77521333,\n",
       "        -0.45972304,  1.22334712]])"
      ]
     },
     "execution_count": 56,
     "metadata": {},
     "output_type": "execute_result"
    }
   ],
   "source": [
    "# Solução\n",
    "def process_EEG_signal(array6):\n",
    "    media = array6.mean()\n",
    "    return array6-media"
   ]
  },
  {
   "cell_type": "markdown",
   "metadata": {
    "id": "7Gy6nTwQE6hj"
   },
   "source": [
    "## Questão 7\n",
    "\n",
    "Em estatística, um **outlier** é um valor que destoa consideravelmente da distribuição à qual está associado. Um dos critérios para idenficar outliers consiste em encontrar a **distância interquantil** (IQR), ou seja, a diferença entre o terceiro (Q3) e o primeiro quartis (Q1) da distribuição, e tomar como outliers todos os pontos abaixo de 1.5*IQR - Q1, ou acima de 1.5*IQR + Q3."
   ]
  },
  {
   "cell_type": "markdown",
   "metadata": {
    "id": "CP-NkMHTE6hk"
   },
   "source": [
    "<img src = \"https://blog.curso-r.com/images/posts/banner/outlier.webp\" />"
   ]
  },
  {
   "cell_type": "markdown",
   "metadata": {
    "id": "BLDJN5JPE6hk"
   },
   "source": [
    "Escreva uma função que, dada uma matriz de dados de entrada de dimensões $N_{observações} \\times N_{features}$ retorne três requisitos: \n",
    "- uma matriz booleana indicando a existência de outliers nos dados de entrada;\n",
    "- a quantidade de outliers\n",
    "- quem são os outliers (os valores)."
   ]
  },
  {
   "cell_type": "markdown",
   "metadata": {
    "id": "wwVcP2uZE6hl"
   },
   "source": [
    "**Algumas definições:**\n",
    "- um *quantil* divide a distribuição, após ordenados os pontos, segundo algum ponto de corte;\n",
    "- o **primeiro quartil** é o ponto para o qual 25 % dos valores da distribuição estão abaixo dele;\n",
    "- o **terceiro quartil** é o ponto para o qual 75 % dos valores da distribuição estão abaixo dele.\n",
    "\n",
    "Pode ser útil consultar a função **numpy.quantile**."
   ]
  },
  {
   "cell_type": "markdown",
   "metadata": {
    "id": "C9nCKXhjE6hm"
   },
   "source": [
    "Exemplo de operação da função:"
   ]
  },
  {
   "cell_type": "code",
   "execution_count": null,
   "metadata": {
    "id": "wHdcs77RE6hm",
    "outputId": "28783112-67ef-4d51-9f83-ea939812a3d7"
   },
   "outputs": [
    {
     "data": {
      "text/plain": [
       "array([[-2.02108952,  0.57945921, -2.23074965, ..., -0.60349514,\n",
       "         0.92180452, -0.15625722],\n",
       "       [ 0.24904397,  0.03493447,  0.3515052 , ..., -0.46950081,\n",
       "         0.20361331,  0.02715956],\n",
       "       [ 0.55902525, -0.48435434,  0.90413414, ..., -0.54425743,\n",
       "        -0.80769134, -0.07912549],\n",
       "       ...,\n",
       "       [-1.04069388, -0.24245725, -2.00308877, ...,  0.4084777 ,\n",
       "        -1.81516131,  0.39063118],\n",
       "       [-1.39275097,  0.3989636 ,  0.2926223 , ...,  1.2620666 ,\n",
       "         0.72262949,  1.50737559],\n",
       "       [ 0.15922011, -0.79810788, -1.60939896, ..., -0.08214499,\n",
       "        -0.13167475,  0.15990558]])"
      ]
     },
     "metadata": {},
     "output_type": "display_data"
    }
   ],
   "source": [
    "# Geremos um conjunto de dados qualquer\n",
    "X = np.random.randn(300,15)\n",
    "X"
   ]
  },
  {
   "cell_type": "code",
   "execution_count": null,
   "metadata": {
    "id": "KVe7LEW0E6hn"
   },
   "outputs": [],
   "source": [
    "# identificamos os requisitos com nossa com nossa função \"locate_outliers\"\n",
    "is_outlier, outliers_count, outliers = locate_outliers(X)"
   ]
  },
  {
   "cell_type": "code",
   "execution_count": null,
   "metadata": {
    "id": "vuZ3n3K_E6hn",
    "outputId": "7e2860f1-4bf7-4a8a-a066-dff638e7a5f9"
   },
   "outputs": [
    {
     "data": {
      "text/plain": [
       "array([[False, False, False, ..., False, False, False],\n",
       "       [False, False, False, ..., False, False, False],\n",
       "       [False, False, False, ..., False, False, False],\n",
       "       ...,\n",
       "       [False, False, False, ..., False, False, False],\n",
       "       [False, False, False, ..., False, False, False],\n",
       "       [False, False, False, ..., False, False, False]])"
      ]
     },
     "metadata": {},
     "output_type": "display_data"
    }
   ],
   "source": [
    "is_outlier"
   ]
  },
  {
   "cell_type": "code",
   "execution_count": null,
   "metadata": {
    "id": "IzjWsBrZE6ho",
    "outputId": "8bf5b80b-16e4-4c65-eead-2a46b67a3954"
   },
   "outputs": [
    {
     "data": {
      "text/plain": [
       "44"
      ]
     },
     "metadata": {},
     "output_type": "display_data"
    }
   ],
   "source": [
    "outliers_count"
   ]
  },
  {
   "cell_type": "code",
   "execution_count": null,
   "metadata": {
    "id": "PbO7R7P2E6hp",
    "outputId": "161089f3-1f11-46a0-ba52-3a328ad17710"
   },
   "outputs": [
    {
     "data": {
      "text/plain": [
       "array([-2.67240384,  3.00270904,  3.62317101,  3.18867865,  2.55581522,\n",
       "       -2.82091429,  2.8757892 ,  2.70666036,  3.19514999, -3.40550318,\n",
       "       -3.39825827,  2.6727295 ,  2.54498296, -2.69447104,  3.19521603,\n",
       "        2.66372172, -2.77444948,  2.77421152,  2.69992869, -2.84831109,\n",
       "       -2.83695779, -2.45908227,  3.07802106,  2.89314015, -2.68574682,\n",
       "       -2.85019494,  2.43399574,  2.44291266, -2.92595937, -2.95911074,\n",
       "       -3.03966003,  2.77543068, -2.67368414, -2.79965402, -3.0501958 ,\n",
       "       -2.5437387 ,  3.08550649, -3.17666255, -3.05795476, -3.09826467,\n",
       "        3.1399469 ,  3.18141942,  2.90564257, -2.89505054])"
      ]
     },
     "metadata": {},
     "output_type": "display_data"
    }
   ],
   "source": [
    "outliers"
   ]
  },
  {
   "cell_type": "code",
   "execution_count": null,
   "metadata": {
    "id": "AdTkst5UE6hq"
   },
   "outputs": [],
   "source": [
    "# Solução"
   ]
  },
  {
   "cell_type": "markdown",
   "metadata": {
    "id": "upNDn96PE6hq"
   },
   "source": [
    "## Questão 8\n",
    "\n",
    "Crie um vetor com valores que vão de 1 até 21 de dois em dois, a partir da função arange"
   ]
  },
  {
   "cell_type": "code",
   "execution_count": 117,
   "metadata": {
    "id": "w4d14JRZE6hr"
   },
   "outputs": [
    {
     "data": {
      "text/plain": [
       "array([ 1,  3,  5,  7,  9, 11, 13, 15, 17, 19, 21])"
      ]
     },
     "execution_count": 117,
     "metadata": {},
     "output_type": "execute_result"
    }
   ],
   "source": [
    "array8 = np.arange(1, 22, 2)\n",
    "array8"
   ]
  },
  {
   "cell_type": "markdown",
   "metadata": {
    "id": "SchEY1O7E6hr"
   },
   "source": [
    "## Questão 9\n",
    "\n",
    "Crie um array de 10 com valores aleatórios"
   ]
  },
  {
   "cell_type": "code",
   "execution_count": 119,
   "metadata": {
    "id": "MYpySePjE6hs"
   },
   "outputs": [
    {
     "data": {
      "text/plain": [
       "array([0.10832248, 0.30795434, 0.53746514, 0.17475424, 0.11616467,\n",
       "       0.30438774, 0.34845079, 0.65252273, 0.11234792, 0.85051174])"
      ]
     },
     "execution_count": 119,
     "metadata": {},
     "output_type": "execute_result"
    }
   ],
   "source": [
    "array9 = np.random.rand(10)\n",
    "array9"
   ]
  },
  {
   "cell_type": "markdown",
   "metadata": {
    "id": "EFfvM6LIAlfJ"
   },
   "source": [
    "## Questão 10\n",
    "\n",
    "Em estatística, a normalização de uma distribuição de dados pode ser feita subtraindo o valor médio da distribuição de cada valor do conjunto de dados, dividindo o resultado pelo desvio-padrão da distribuição. Escreva uma função que normalize os dados recebidos por um array numpy qualquer, conforme descrito anteriormente."
   ]
  },
  {
   "cell_type": "code",
   "execution_count": 122,
   "metadata": {
    "id": "yfho2bziAlfJ"
   },
   "outputs": [
    {
     "data": {
      "text/plain": [
       "array([-1.66090891e-01, -1.72965668e+00, -3.52877532e+00, -6.69394664e-01,\n",
       "       -3.08594211e-02, -1.77948126e-01, -8.61375256e-01,  5.04035866e-01,\n",
       "       -2.15074137e+00,  2.59685617e+00, -2.34450519e+00,  1.91457781e+00,\n",
       "       -3.63422875e+00,  4.15835788e+00, -3.24680974e+00, -6.05258411e-01,\n",
       "       -2.77409056e-01,  1.50035739e+00, -1.10109232e+00, -1.11762365e-01,\n",
       "       -1.30801455e-01, -4.04075419e-01, -4.35548273e-01, -4.51422136e-01,\n",
       "        9.74599822e-01,  1.08769118e+00,  2.99400235e+00, -3.37619765e+00,\n",
       "       -1.09727583e+00, -2.94295614e+00, -4.26234751e-01, -6.32210513e-01,\n",
       "       -5.48329616e+00, -1.40488441e+00, -7.13585453e-01,  2.40387324e+00,\n",
       "       -8.30439511e-01,  2.19422795e+00, -4.28920367e-01,  3.63761032e-01,\n",
       "       -3.57133170e-01, -3.47977674e+00,  4.62530084e-01,  1.69277720e+00,\n",
       "        1.96777634e+00, -3.98735100e+00,  1.16414514e+00,  2.00721698e+00,\n",
       "       -2.26221125e+00,  4.17766448e-01,  6.55028657e-01, -9.99908442e-01,\n",
       "        1.28076586e+00, -2.18263720e+00,  3.43731051e-01,  6.91841513e-01,\n",
       "        1.50153144e+00,  2.50124023e+00,  5.42975367e+00, -1.49858938e+00,\n",
       "        9.47008498e-01, -1.11917167e+00, -2.34141711e+00,  3.34349127e+00,\n",
       "       -1.85857961e+00,  5.51322077e-03, -2.28785992e+00, -2.83878680e+00,\n",
       "       -3.72518776e-01, -3.93450588e+00,  2.50367654e+00, -1.41549809e-01,\n",
       "       -1.55885298e+00, -2.85866657e-01, -9.49721919e-01,  2.11175079e+00,\n",
       "       -1.54904105e+00,  3.68883752e-03,  5.52689778e-01, -1.14512349e+00,\n",
       "       -9.73852799e-01,  1.81631160e-01,  1.41181643e+00, -1.87576416e+00,\n",
       "       -5.63482832e-02,  1.51296282e+00,  4.40870572e+00, -3.80687910e+00,\n",
       "       -2.72524176e+00,  4.99387065e-01,  6.09090982e-01, -7.13838129e-01,\n",
       "       -3.04262885e-01, -8.27987403e-01,  1.30074162e-01, -2.27614383e+00,\n",
       "       -7.98564461e-01, -2.92212374e+00, -5.65031056e-02, -1.41684905e+00])"
      ]
     },
     "execution_count": 122,
     "metadata": {},
     "output_type": "execute_result"
    }
   ],
   "source": [
    "array10 = np.random.normal(0, 2, 100)\n",
    "array10"
   ]
  },
  {
   "cell_type": "markdown",
   "metadata": {
    "id": "p60_N7ZwAlfK"
   },
   "source": [
    "## Questão 11\n",
    "\n",
    "Escreva uma função em numpy que receba um array contendo notas de uma turma de 100 estudantes. Considere que a nota de aprovação da turma é 5.0. A função deve retornar, em um array numpy, nesta ordem:\n",
    "- a média e o desvio-padrão das notas da turma;\n",
    "- o número de notas maiores que 7.0;\n",
    "- o número de reprovações da turma;\n",
    "- a menor nota da turma;\n",
    "- a maior nota da turma."
   ]
  },
  {
   "cell_type": "code",
   "execution_count": 16,
   "metadata": {
    "id": "Q3wkBCFtAlfK"
   },
   "outputs": [
    {
     "data": {
      "text/plain": [
       "array([ 0,  1,  2,  3,  4,  5,  6,  7,  8,  9, 10])"
      ]
     },
     "execution_count": 16,
     "metadata": {},
     "output_type": "execute_result"
    }
   ],
   "source": [
    "array11 = np.arange(0, 11)\n",
    "array11"
   ]
  },
  {
   "cell_type": "code",
   "execution_count": 24,
   "metadata": {},
   "outputs": [
    {
     "name": "stdout",
     "output_type": "stream",
     "text": [
      "a média e o desvio-padrão das notas da turma: \n",
      "Média: 5.0 Std: 3.1622776601683795\n",
      "\n",
      "o número de notas maiores que 7.0:  \n",
      "3\n",
      "\n",
      "o número de reprovações da turma \n",
      "5\n",
      "\n",
      "a menor nota da turma: \n",
      "0\n",
      "\n",
      "a maior nota da turma: \n",
      "10\n"
     ]
    }
   ],
   "source": [
    "def estatisticasTurma(array11):\n",
    "\n",
    "    #Média\n",
    "    print(\"a média e o desvio-padrão das notas da turma: \")\n",
    "    print(\"Média:\", array11.mean(), \"Std:\", array11.std())\n",
    "\n",
    "    # Notas maiores que 7\n",
    "    print(\"\\no número de notas maiores que 7.0:  \")\n",
    "    print((array11 > 7).sum())\n",
    "\n",
    "    # Reprovações\n",
    "    print(\"\\no número de reprovações da turma \")\n",
    "    print((array11 < 5).sum())\n",
    "\n",
    "    # Menor nota\n",
    "    print(\"\\na menor nota da turma: \")\n",
    "    print(array11.min())\n",
    "\n",
    "    # Maior nota\n",
    "    print(\"\\na maior nota da turma: \")\n",
    "    print(array11.max())\n",
    "    \n",
    "estatisticasTurma(array11)"
   ]
  }
 ],
 "metadata": {
  "colab": {
   "include_colab_link": true,
   "provenance": []
  },
  "kernelspec": {
   "display_name": "Python 3 (ipykernel)",
   "language": "python",
   "name": "python3"
  },
  "language_info": {
   "codemirror_mode": {
    "name": "ipython",
    "version": 3
   },
   "file_extension": ".py",
   "mimetype": "text/x-python",
   "name": "python",
   "nbconvert_exporter": "python",
   "pygments_lexer": "ipython3",
   "version": "3.9.2"
  }
 },
 "nbformat": 4,
 "nbformat_minor": 4
}
